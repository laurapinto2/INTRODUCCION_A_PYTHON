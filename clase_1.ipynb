{
 "cells": [
  {
   "cell_type": "markdown",
   "metadata": {},
   "source": [
    "# INTRODUCCIÓN A PYTHON"
   ]
  },
  {
   "cell_type": "code",
   "execution_count": 13,
   "metadata": {},
   "outputs": [
    {
     "name": "stdout",
     "output_type": "stream",
     "text": [
      "Hola Mundo\n"
     ]
    }
   ],
   "source": [
    "print('Hola Mundo')"
   ]
  },
  {
   "cell_type": "markdown",
   "metadata": {},
   "source": [
    "# Operaciones Básicas"
   ]
  },
  {
   "cell_type": "code",
   "execution_count": 14,
   "metadata": {},
   "outputs": [
    {
     "name": "stdout",
     "output_type": "stream",
     "text": [
      "valor 4+5\n",
      " El valor es de: 14.0\n",
      "10\n"
     ]
    }
   ],
   "source": [
    "5+5 #suma\n",
    "print('valor 4+5')\n",
    "print(f' El valor es de: {5*(2.5+3.1)/2}') #forma de mostrar en pantalla operación matemática\n",
    "x=5*2\n",
    "print(x)"
   ]
  },
  {
   "cell_type": "markdown",
   "metadata": {},
   "source": [
    "# Otras Operaciones"
   ]
  },
  {
   "cell_type": "code",
   "execution_count": 16,
   "metadata": {},
   "outputs": [
    {
     "name": "stdout",
     "output_type": "stream",
     "text": [
      "8.0\n"
     ]
    }
   ],
   "source": [
    "2**3 #elevación\n",
    "b=(2**3+4**2)/3\n",
    "print(b)"
   ]
  },
  {
   "cell_type": "markdown",
   "metadata": {},
   "source": [
    "# Guarda texto en variables"
   ]
  },
  {
   "cell_type": "code",
   "execution_count": 3,
   "metadata": {},
   "outputs": [
    {
     "name": "stdout",
     "output_type": "stream",
     "text": [
      "casa amarillo\n"
     ]
    }
   ],
   "source": [
    "x=\"casa\"\n",
    "y=\"amarillo\"\n",
    "e=\" \"\n",
    "z=x+e+y\n",
    "print(z)"
   ]
  },
  {
   "cell_type": "markdown",
   "metadata": {},
   "source": [
    "# Ingreso de valores por teclado\n"
   ]
  },
  {
   "cell_type": "code",
   "execution_count": 5,
   "metadata": {},
   "outputs": [
    {
     "name": "stdout",
     "output_type": "stream",
     "text": [
      "<class 'int'>\n"
     ]
    }
   ],
   "source": [
    "x=float(input('Ingrese valor')) #int (entero) y float (decimal)\n",
    "g=3\n",
    "z=((x**2)+(g**3))/(x)**(1/2)\n",
    "z\n",
    "print(type(g)) #tipo"
   ]
  },
  {
   "cell_type": "code",
   "execution_count": 10,
   "metadata": {},
   "outputs": [
    {
     "data": {
      "text/plain": [
       "['a', 'b', 'c']"
      ]
     },
     "execution_count": 10,
     "metadata": {},
     "output_type": "execute_result"
    }
   ],
   "source": [
    "x=['a','b','c','f'] #vectores\n",
    "#x.pop(4) #empieza por valor 0 y pop (borrar)\n",
    "#x.pop(-1) #los puede tomar con (-)\n",
    "x.remove('f')\n",
    "x"
   ]
  },
  {
   "cell_type": "markdown",
   "metadata": {},
   "source": [
    "# Estructura de control\n"
   ]
  },
  {
   "cell_type": "code",
   "execution_count": 12,
   "metadata": {},
   "outputs": [
    {
     "name": "stdout",
     "output_type": "stream",
     "text": [
      "0\n",
      "1\n",
      "2\n"
     ]
    }
   ],
   "source": [
    "#Ciclofor\n",
    "for x in range(0,3):\n",
    "    print(x)"
   ]
  },
  {
   "cell_type": "code",
   "execution_count": 13,
   "metadata": {},
   "outputs": [
    {
     "name": "stdout",
     "output_type": "stream",
     "text": [
      "valores de la variable 4\n",
      "valores de la variable 5\n",
      "valores de la variable 6\n",
      "valores de la variable 7\n"
     ]
    }
   ],
   "source": [
    "for x in range(4,8):\n",
    "    print(f'valores de la variable {x}')"
   ]
  },
  {
   "cell_type": "code",
   "execution_count": 14,
   "metadata": {},
   "outputs": [
    {
     "name": "stdout",
     "output_type": "stream",
     "text": [
      "M\n",
      "a\n",
      "n\n",
      "z\n",
      "a\n",
      "n\n",
      "a\n"
     ]
    }
   ],
   "source": [
    "for x in 'Manzana':\n",
    "    print(x)"
   ]
  },
  {
   "cell_type": "markdown",
   "metadata": {},
   "source": [
    "# Condicionales"
   ]
  },
  {
   "cell_type": "code",
   "execution_count": 15,
   "metadata": {},
   "outputs": [
    {
     "name": "stdout",
     "output_type": "stream",
     "text": [
      "la variable b es mayor que a\n"
     ]
    }
   ],
   "source": [
    "a=33\n",
    "b=42\n",
    "if b<a: #si\n",
    "    print('la variable b es menor que a')\n",
    "else: #de lo contrario\n",
    "    print('la variable b es mayor que a')"
   ]
  },
  {
   "cell_type": "code",
   "execution_count": 16,
   "metadata": {},
   "outputs": [
    {
     "name": "stdout",
     "output_type": "stream",
     "text": [
      "Las variables son diferentes\n"
     ]
    }
   ],
   "source": [
    "x='mama'\n",
    "y='mamá'\n",
    "if x==y:\n",
    "    print('Las variables son iguales')\n",
    "else:\n",
    "    print('Las variables son diferentes')"
   ]
  },
  {
   "cell_type": "code",
   "execution_count": 17,
   "metadata": {},
   "outputs": [
    {
     "name": "stdout",
     "output_type": "stream",
     "text": [
      "la variable b es mayor que a\n"
     ]
    }
   ],
   "source": [
    "#si no, ejecute otra regla\n",
    "a=33\n",
    "b=42\n",
    "if b<a: \n",
    "    print('la variable b es menor que a')\n",
    "elif b==a:\n",
    "    print('la variable b es igual a')\n",
    "else: \n",
    "    print('la variable b es mayor que a')"
   ]
  },
  {
   "cell_type": "markdown",
   "metadata": {},
   "source": [
    "# Ciclo While"
   ]
  },
  {
   "cell_type": "code",
   "execution_count": 21,
   "metadata": {},
   "outputs": [
    {
     "name": "stdout",
     "output_type": "stream",
     "text": [
      "1\n",
      "2\n",
      "3\n",
      "4\n",
      "5\n",
      "6\n",
      "7\n",
      "8\n",
      "9\n"
     ]
    }
   ],
   "source": [
    "#tantas operaciones hasta que se cumple la condición\n",
    "i=1\n",
    "while i<10: #hasta que se cumpla lo siguiente\n",
    "    print(i)\n",
    "    i=i+1"
   ]
  },
  {
   "cell_type": "markdown",
   "metadata": {},
   "source": [
    "# Combinación de estructuras"
   ]
  },
  {
   "cell_type": "code",
   "execution_count": 24,
   "metadata": {},
   "outputs": [
    {
     "name": "stdout",
     "output_type": "stream",
     "text": [
      "1\n",
      "2\n",
      "3\n",
      "Llegue al 3\n",
      "4\n",
      "5\n",
      "6\n",
      "7\n",
      "8\n",
      "9\n"
     ]
    }
   ],
   "source": [
    "i=1\n",
    "while i<10: #hasta que se cumpla lo siguiente\n",
    "    print(i)\n",
    "    if i==3: #cuando\n",
    "        print('Llegue al 3')\n",
    "    i=i+1"
   ]
  },
  {
   "cell_type": "code",
   "execution_count": 4,
   "metadata": {},
   "outputs": [],
   "source": [
    "# no entendí\n",
    "x=float(input('Valor x:'))\n",
    "y=float(input('Valor y:'))\n",
    "\n",
    "for i in range(20):\n",
    "    if(x>4 and x<10):\n",
    "        print(x)"
   ]
  },
  {
   "cell_type": "code",
   "execution_count": 5,
   "metadata": {},
   "outputs": [
    {
     "name": "stdout",
     "output_type": "stream",
     "text": [
      "Collecting matplotlibNote: you may need to restart the kernel to use updated packages.\n",
      "\n",
      "  Downloading matplotlib-3.9.2-cp312-cp312-win_amd64.whl.metadata (11 kB)\n",
      "Collecting contourpy>=1.0.1 (from matplotlib)\n",
      "  Downloading contourpy-1.2.1-cp312-cp312-win_amd64.whl.metadata (5.8 kB)\n",
      "Collecting cycler>=0.10 (from matplotlib)\n",
      "  Downloading cycler-0.12.1-py3-none-any.whl.metadata (3.8 kB)\n",
      "Collecting fonttools>=4.22.0 (from matplotlib)\n",
      "  Downloading fonttools-4.53.1-cp312-cp312-win_amd64.whl.metadata (165 kB)\n",
      "Collecting kiwisolver>=1.3.1 (from matplotlib)\n",
      "  Downloading kiwisolver-1.4.5-cp312-cp312-win_amd64.whl.metadata (6.5 kB)\n",
      "Requirement already satisfied: numpy>=1.23 in c:\\users\\laura\\appdata\\local\\programs\\python\\python312\\lib\\site-packages (from matplotlib) (2.0.1)\n",
      "Requirement already satisfied: packaging>=20.0 in c:\\users\\laura\\appdata\\roaming\\python\\python312\\site-packages (from matplotlib) (24.1)\n",
      "Collecting pillow>=8 (from matplotlib)\n",
      "  Downloading pillow-10.4.0-cp312-cp312-win_amd64.whl.metadata (9.3 kB)\n",
      "Collecting pyparsing>=2.3.1 (from matplotlib)\n",
      "  Downloading pyparsing-3.1.2-py3-none-any.whl.metadata (5.1 kB)\n",
      "Requirement already satisfied: python-dateutil>=2.7 in c:\\users\\laura\\appdata\\roaming\\python\\python312\\site-packages (from matplotlib) (2.9.0.post0)\n",
      "Requirement already satisfied: six>=1.5 in c:\\users\\laura\\appdata\\roaming\\python\\python312\\site-packages (from python-dateutil>=2.7->matplotlib) (1.16.0)\n",
      "Downloading matplotlib-3.9.2-cp312-cp312-win_amd64.whl (7.8 MB)\n",
      "   ---------------------------------------- 0.0/7.8 MB ? eta -:--:--\n",
      "   ---------------------------------------- 0.0/7.8 MB ? eta -:--:--\n",
      "   ---------------------------------------- 0.0/7.8 MB ? eta -:--:--\n",
      "   - -------------------------------------- 0.3/7.8 MB ? eta -:--:--\n",
      "   - -------------------------------------- 0.3/7.8 MB ? eta -:--:--\n",
      "   -- ------------------------------------- 0.5/7.8 MB 599.9 kB/s eta 0:00:13\n",
      "   ---- ----------------------------------- 0.8/7.8 MB 780.2 kB/s eta 0:00:10\n",
      "   ---- ----------------------------------- 0.8/7.8 MB 780.2 kB/s eta 0:00:10\n",
      "   ---- ----------------------------------- 0.8/7.8 MB 780.2 kB/s eta 0:00:10\n",
      "   ----- ---------------------------------- 1.0/7.8 MB 629.1 kB/s eta 0:00:11\n",
      "   ----- ---------------------------------- 1.0/7.8 MB 629.1 kB/s eta 0:00:11\n",
      "   ----- ---------------------------------- 1.0/7.8 MB 629.1 kB/s eta 0:00:11\n",
      "   ----- ---------------------------------- 1.0/7.8 MB 629.1 kB/s eta 0:00:11\n",
      "   ----- ---------------------------------- 1.0/7.8 MB 629.1 kB/s eta 0:00:11\n",
      "   ------ --------------------------------- 1.3/7.8 MB 456.5 kB/s eta 0:00:15\n",
      "   ------ --------------------------------- 1.3/7.8 MB 456.5 kB/s eta 0:00:15\n",
      "   ------ --------------------------------- 1.3/7.8 MB 456.5 kB/s eta 0:00:15\n",
      "   ------ --------------------------------- 1.3/7.8 MB 456.5 kB/s eta 0:00:15\n",
      "   ------ --------------------------------- 1.3/7.8 MB 456.5 kB/s eta 0:00:15\n",
      "   -------- ------------------------------- 1.6/7.8 MB 388.4 kB/s eta 0:00:17\n",
      "   -------- ------------------------------- 1.6/7.8 MB 388.4 kB/s eta 0:00:17\n",
      "   --------- ------------------------------ 1.8/7.8 MB 407.6 kB/s eta 0:00:15\n",
      "   --------- ------------------------------ 1.8/7.8 MB 407.6 kB/s eta 0:00:15\n",
      "   --------- ------------------------------ 1.8/7.8 MB 407.6 kB/s eta 0:00:15\n",
      "   ---------- ----------------------------- 2.1/7.8 MB 410.6 kB/s eta 0:00:14\n",
      "   ---------- ----------------------------- 2.1/7.8 MB 410.6 kB/s eta 0:00:14\n",
      "   ------------ --------------------------- 2.4/7.8 MB 428.8 kB/s eta 0:00:13\n",
      "   ------------- -------------------------- 2.6/7.8 MB 456.2 kB/s eta 0:00:12\n",
      "   -------------- ------------------------- 2.9/7.8 MB 487.7 kB/s eta 0:00:11\n",
      "   ---------------- ----------------------- 3.1/7.8 MB 515.5 kB/s eta 0:00:10\n",
      "   ---------------- ----------------------- 3.1/7.8 MB 515.5 kB/s eta 0:00:10\n",
      "   ----------------- ---------------------- 3.4/7.8 MB 536.9 kB/s eta 0:00:09\n",
      "   ----------------- ---------------------- 3.4/7.8 MB 536.9 kB/s eta 0:00:09\n",
      "   ------------------ --------------------- 3.7/7.8 MB 545.3 kB/s eta 0:00:08\n",
      "   -------------------- ------------------- 3.9/7.8 MB 560.6 kB/s eta 0:00:07\n",
      "   -------------------- ------------------- 3.9/7.8 MB 560.6 kB/s eta 0:00:07\n",
      "   --------------------- ------------------ 4.2/7.8 MB 560.5 kB/s eta 0:00:07\n",
      "   --------------------- ------------------ 4.2/7.8 MB 560.5 kB/s eta 0:00:07\n",
      "   --------------------- ------------------ 4.2/7.8 MB 560.5 kB/s eta 0:00:07\n",
      "   ---------------------- ----------------- 4.5/7.8 MB 551.2 kB/s eta 0:00:07\n",
      "   ---------------------- ----------------- 4.5/7.8 MB 551.2 kB/s eta 0:00:07\n",
      "   ------------------------ --------------- 4.7/7.8 MB 555.9 kB/s eta 0:00:06\n",
      "   ------------------------ --------------- 4.7/7.8 MB 555.9 kB/s eta 0:00:06\n",
      "   ------------------------ --------------- 4.7/7.8 MB 555.9 kB/s eta 0:00:06\n",
      "   ------------------------- -------------- 5.0/7.8 MB 551.1 kB/s eta 0:00:06\n",
      "   -------------------------- ------------- 5.2/7.8 MB 563.2 kB/s eta 0:00:05\n",
      "   ---------------------------- ----------- 5.5/7.8 MB 582.5 kB/s eta 0:00:04\n",
      "   ----------------------------- ---------- 5.8/7.8 MB 584.3 kB/s eta 0:00:04\n",
      "   ----------------------------- ---------- 5.8/7.8 MB 584.3 kB/s eta 0:00:04\n",
      "   ------------------------------ --------- 6.0/7.8 MB 591.5 kB/s eta 0:00:04\n",
      "   -------------------------------- ------- 6.3/7.8 MB 599.2 kB/s eta 0:00:03\n",
      "   -------------------------------- ------- 6.3/7.8 MB 599.2 kB/s eta 0:00:03\n",
      "   --------------------------------- ------ 6.6/7.8 MB 609.2 kB/s eta 0:00:03\n",
      "   ---------------------------------- ----- 6.8/7.8 MB 621.4 kB/s eta 0:00:02\n",
      "   ------------------------------------ --- 7.1/7.8 MB 632.2 kB/s eta 0:00:02\n",
      "   ------------------------------------- -- 7.3/7.8 MB 638.9 kB/s eta 0:00:01\n",
      "   ------------------------------------- -- 7.3/7.8 MB 638.9 kB/s eta 0:00:01\n",
      "   -------------------------------------- - 7.6/7.8 MB 642.6 kB/s eta 0:00:01\n",
      "   ---------------------------------------- 7.8/7.8 MB 645.2 kB/s eta 0:00:00\n",
      "Downloading contourpy-1.2.1-cp312-cp312-win_amd64.whl (189 kB)\n",
      "Downloading cycler-0.12.1-py3-none-any.whl (8.3 kB)\n",
      "Downloading fonttools-4.53.1-cp312-cp312-win_amd64.whl (2.2 MB)\n",
      "   ---------------------------------------- 0.0/2.2 MB ? eta -:--:--\n",
      "   ---------------------------------------- 0.0/2.2 MB ? eta -:--:--\n",
      "   ---------------------------------------- 0.0/2.2 MB ? eta -:--:--\n",
      "   ---- ----------------------------------- 0.3/2.2 MB ? eta -:--:--\n",
      "   ---- ----------------------------------- 0.3/2.2 MB ? eta -:--:--\n",
      "   ---- ----------------------------------- 0.3/2.2 MB ? eta -:--:--\n",
      "   ---- ----------------------------------- 0.3/2.2 MB ? eta -:--:--\n",
      "   ---- ----------------------------------- 0.3/2.2 MB ? eta -:--:--\n",
      "   --------- ------------------------------ 0.5/2.2 MB 262.1 kB/s eta 0:00:07\n",
      "   --------- ------------------------------ 0.5/2.2 MB 262.1 kB/s eta 0:00:07\n",
      "   --------- ------------------------------ 0.5/2.2 MB 262.1 kB/s eta 0:00:07\n",
      "   -------------- ------------------------- 0.8/2.2 MB 319.7 kB/s eta 0:00:05\n",
      "   -------------- ------------------------- 0.8/2.2 MB 319.7 kB/s eta 0:00:05\n",
      "   ------------------- -------------------- 1.0/2.2 MB 381.4 kB/s eta 0:00:04\n",
      "   ------------------- -------------------- 1.0/2.2 MB 381.4 kB/s eta 0:00:04\n",
      "   ------------------- -------------------- 1.0/2.2 MB 381.4 kB/s eta 0:00:04\n",
      "   ----------------------- ---------------- 1.3/2.2 MB 406.7 kB/s eta 0:00:03\n",
      "   ----------------------- ---------------- 1.3/2.2 MB 406.7 kB/s eta 0:00:03\n",
      "   ---------------------------- ----------- 1.6/2.2 MB 432.4 kB/s eta 0:00:02\n",
      "   --------------------------------- ------ 1.8/2.2 MB 468.3 kB/s eta 0:00:01\n",
      "   -------------------------------------- - 2.1/2.2 MB 512.9 kB/s eta 0:00:01\n",
      "   ---------------------------------------- 2.2/2.2 MB 530.5 kB/s eta 0:00:00\n",
      "Downloading kiwisolver-1.4.5-cp312-cp312-win_amd64.whl (56 kB)\n",
      "Downloading pillow-10.4.0-cp312-cp312-win_amd64.whl (2.6 MB)\n",
      "   ---------------------------------------- 0.0/2.6 MB ? eta -:--:--\n",
      "   ---- ----------------------------------- 0.3/2.6 MB ? eta -:--:--\n",
      "   ---- ----------------------------------- 0.3/2.6 MB ? eta -:--:--\n",
      "   ---- ----------------------------------- 0.3/2.6 MB ? eta -:--:--\n",
      "   ---- ----------------------------------- 0.3/2.6 MB ? eta -:--:--\n",
      "   -------- ------------------------------- 0.5/2.6 MB 357.1 kB/s eta 0:00:06\n",
      "   ------------ --------------------------- 0.8/2.6 MB 541.6 kB/s eta 0:00:04\n",
      "   ---------------- ----------------------- 1.0/2.6 MB 680.3 kB/s eta 0:00:03\n",
      "   ---------------- ----------------------- 1.0/2.6 MB 680.3 kB/s eta 0:00:03\n",
      "   -------------------- ------------------- 1.3/2.6 MB 692.1 kB/s eta 0:00:02\n",
      "   -------------------- ------------------- 1.3/2.6 MB 692.1 kB/s eta 0:00:02\n",
      "   -------------------- ------------------- 1.3/2.6 MB 692.1 kB/s eta 0:00:02\n",
      "   ------------------------ --------------- 1.6/2.6 MB 616.8 kB/s eta 0:00:02\n",
      "   ---------------------------- ----------- 1.8/2.6 MB 658.1 kB/s eta 0:00:02\n",
      "   ---------------------------- ----------- 1.8/2.6 MB 658.1 kB/s eta 0:00:02\n",
      "   -------------------------------- ------- 2.1/2.6 MB 656.1 kB/s eta 0:00:01\n",
      "   -------------------------------- ------- 2.1/2.6 MB 656.1 kB/s eta 0:00:01\n",
      "   -------------------------------- ------- 2.1/2.6 MB 656.1 kB/s eta 0:00:01\n",
      "   -------------------------------- ------- 2.1/2.6 MB 656.1 kB/s eta 0:00:01\n",
      "   ------------------------------------ --- 2.4/2.6 MB 559.2 kB/s eta 0:00:01\n",
      "   ------------------------------------ --- 2.4/2.6 MB 559.2 kB/s eta 0:00:01\n",
      "   ---------------------------------------- 2.6/2.6 MB 560.2 kB/s eta 0:00:00\n",
      "Downloading pyparsing-3.1.2-py3-none-any.whl (103 kB)\n",
      "Installing collected packages: pyparsing, pillow, kiwisolver, fonttools, cycler, contourpy, matplotlib\n",
      "Successfully installed contourpy-1.2.1 cycler-0.12.1 fonttools-4.53.1 kiwisolver-1.4.5 matplotlib-3.9.2 pillow-10.4.0 pyparsing-3.1.2\n"
     ]
    },
    {
     "name": "stderr",
     "output_type": "stream",
     "text": [
      "  WARNING: The scripts fonttools.exe, pyftmerge.exe, pyftsubset.exe and ttx.exe are installed in 'c:\\Users\\laura\\AppData\\Local\\Programs\\Python\\Python312\\Scripts' which is not on PATH.\n",
      "  Consider adding this directory to PATH or, if you prefer to suppress this warning, use --no-warn-script-location.\n"
     ]
    }
   ],
   "source": [
    "pip install matplotlib"
   ]
  }
 ],
 "metadata": {
  "kernelspec": {
   "display_name": "Python 3",
   "language": "python",
   "name": "python3"
  },
  "language_info": {
   "codemirror_mode": {
    "name": "ipython",
    "version": 3
   },
   "file_extension": ".py",
   "mimetype": "text/x-python",
   "name": "python",
   "nbconvert_exporter": "python",
   "pygments_lexer": "ipython3",
   "version": "3.12.5"
  }
 },
 "nbformat": 4,
 "nbformat_minor": 2
}
